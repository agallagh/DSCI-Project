{
 "cells": [
  {
   "cell_type": "markdown",
   "id": "7ef9235a-386c-4cd1-be8d-2387f156c051",
   "metadata": {},
   "source": [
    "### Project starting in Jupyter"
   ]
  },
  {
   "cell_type": "markdown",
   "id": "fd9c4973-ddd6-4005-a164-2dd2c3047d74",
   "metadata": {},
   "source": [
    "blah"
   ]
  },
  {
   "cell_type": "code",
   "execution_count": 2,
   "id": "883e7eeb-8c8d-40dc-bc83-86bc88f46dae",
   "metadata": {},
   "outputs": [],
   "source": [
    "# Avery is here -  this is me making changes to the code"
   ]
  },
  {
   "cell_type": "code",
   "execution_count": 3,
   "id": "86c14f3b-a9ce-43b8-a5d5-b99671049d37",
   "metadata": {},
   "outputs": [],
   "source": [
    "#chelsea was here again"
   ]
  },
  {
   "cell_type": "code",
   "execution_count": null,
   "id": "eef1c284-117c-4de9-bf09-1079ee6bc6c6",
   "metadata": {},
   "outputs": [],
   "source": []
  }
 ],
 "metadata": {
  "kernelspec": {
   "display_name": "Python 3 (ipykernel)",
   "language": "python",
   "name": "python3"
  },
  "language_info": {
   "codemirror_mode": {
    "name": "ipython",
    "version": 3
   },
   "file_extension": ".py",
   "mimetype": "text/x-python",
   "name": "python",
   "nbconvert_exporter": "python",
   "pygments_lexer": "ipython3",
   "version": "3.11.9"
  }
 },
 "nbformat": 4,
 "nbformat_minor": 5
}
