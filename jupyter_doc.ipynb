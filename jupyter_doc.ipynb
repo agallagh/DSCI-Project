{
 "cells": [
  {
   "cell_type": "markdown",
   "id": "7ef9235a-386c-4cd1-be8d-2387f156c051",
   "metadata": {},
   "source": [
    "### Project starting in Jupyter"
   ]
  },
  {
   "cell_type": "markdown",
   "id": "fd9c4973-ddd6-4005-a164-2dd2c3047d74",
   "metadata": {},
   "source": [
    "blah"
   ]
  },
  {
   "cell_type": "code",
   "execution_count": null,
   "id": "883e7eeb-8c8d-40dc-bc83-86bc88f46dae",
   "metadata": {},
   "outputs": [],
   "source": [
    "# Avery is here -  this is me making changes to the code\n"
   ]
  },
  {
   "cell_type": "code",
   "execution_count": null,
   "id": "a3e24e75-d444-45dd-8f83-37ce10e1881b",
   "metadata": {},
   "outputs": [],
   "source": []
  },
  {
   "cell_type": "code",
   "execution_count": 4,
   "id": "eacaea18-db0a-4f90-81ec-30732d9a3f3c",
   "metadata": {},
   "outputs": [],
   "source": [
    "# this is averys second change"
   ]
  },
  {
   "cell_type": "code",
   "execution_count": null,
   "id": "63a3ab37-e604-4d9c-8f05-c510ba5dd6a8",
   "metadata": {},
   "outputs": [],
   "source": []
  },
  {
   "cell_type": "code",
   "execution_count": 5,
   "id": "c3784b5f-5068-49d1-8dcb-9fdd5afde2bc",
   "metadata": {},
   "outputs": [],
   "source": [
    "import pandas as pd\n",
    "import altair as alt"
   ]
  },
  {
   "cell_type": "code",
   "execution_count": null,
   "id": "64997694-fdf9-4a88-a433-99b457ad5af1",
   "metadata": {},
   "outputs": [],
   "source": []
  }
 ],
 "metadata": {
  "kernelspec": {
   "display_name": "Python 3 (ipykernel)",
   "language": "python",
   "name": "python3"
  },
  "language_info": {
   "codemirror_mode": {
    "name": "ipython",
    "version": 3
   },
   "file_extension": ".py",
   "mimetype": "text/x-python",
   "name": "python",
   "nbconvert_exporter": "python",
   "pygments_lexer": "ipython3",
   "version": "3.11.9"
  }
 },
 "nbformat": 4,
 "nbformat_minor": 5
}
